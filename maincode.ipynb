{
 "cells": [
  {
   "cell_type": "code",
   "execution_count": 37,
   "metadata": {},
   "outputs": [],
   "source": [
    "import pandas as pd\n",
    "import numpy as np\n",
    "import time\n",
    "from math import radians, sin, cos, sqrt, atan2\n",
    "import matplotlib.pyplot as plt\n",
    "from sklearn.ensemble import RandomForestRegressor\n",
    "from sklearn.model_selection import train_test_split\n",
    "from sklearn.model_selection import RandomizedSearchCV\n",
    "from sklearn.preprocessing import LabelEncoder\n",
    "from sklearn.metrics import mean_absolute_error, mean_squared_error, r2_score\n",
    "import requests\n",
    "from geopy.distance import geodesic\n",
    "import joblib"
   ]
  },
  {
   "cell_type": "code",
   "execution_count": 38,
   "metadata": {},
   "outputs": [],
   "source": [
    "data = pd.read_csv('D:\\DISHWISE\\DishWise-main\\scripts\\FINAL.csv')\n",
    "geo_data = pd.read_csv('D:\\DISHWISE\\DishWise-main\\scripts\\location.csv')\n",
    "data = pd.merge(data, geo_data, how='left', on='District')"
   ]
  },
  {
   "cell_type": "code",
   "execution_count": 39,
   "metadata": {},
   "outputs": [],
   "source": [
    "le_district = LabelEncoder()\n",
    "le_commodity = LabelEncoder()\n",
    "le_variety = LabelEncoder()\n",
    "\n",
    "data['District_Encoded'] = le_district.fit_transform(data['District'])\n",
    "data['Commodity_Encoded'] = le_commodity.fit_transform(data['Commodity'])\n",
    "data['Variety_Encoded'] = le_variety.fit_transform(data['Variety'])\n",
    "\n",
    "\n",
    "data['Year'] = pd.DatetimeIndex(data['Year']).year\n",
    "month_name_to_number = {\n",
    "    'January': 1, 'February': 2, 'March': 3, 'April': 4, 'May': 5,\n",
    "    'June': 6, 'July': 7, 'August': 8, 'September': 9, 'October': 10,\n",
    "    'November': 11, 'December': 12\n",
    "}\n",
    "\n",
    "data['Month'] = data['Month_Name'].map(month_name_to_number)\n",
    "data = data.dropna(subset=['Commodity_Encoded', 'Variety_Encoded', 'District_Encoded', 'Year', 'Month', 'Modal_Price'])"
   ]
  },
  {
   "cell_type": "code",
   "execution_count": 40,
   "metadata": {},
   "outputs": [],
   "source": [
    "\n",
    "features = ['Commodity_Encoded', 'Variety_Encoded', 'District_Encoded', 'Year', 'Month']\n",
    "target = 'Modal_Price'\n",
    "\n",
    "X = data[features]\n",
    "y = data[target]\n",
    "\n",
    "X_train, X_test, y_train, y_test = train_test_split(X, y, test_size=0.2, random_state=42)"
   ]
  },
  {
   "cell_type": "code",
   "execution_count": 41,
   "metadata": {},
   "outputs": [],
   "source": [
    "param_grid = {\n",
    "    'n_estimators': [50, 100, 200, 500],                  # Number of trees\n",
    "    'max_depth': [None, 10, 20, 30, 50],                  # Maximum depth of the tree\n",
    "    'min_samples_split': [2, 5, 10],                      # Minimum number of samples to split a node\n",
    "    'min_samples_leaf': [1, 2, 4],                        # Minimum number of samples required at a leaf node\n",
    "    'bootstrap': [True, False]                            # Whether bootstrap samples are used\n",
    "}\n"
   ]
  },
  {
   "cell_type": "code",
   "execution_count": 42,
   "metadata": {},
   "outputs": [
    {
     "name": "stdout",
     "output_type": "stream",
     "text": [
      "Fitting 5 folds for each of 100 candidates, totalling 500 fits\n"
     ]
    }
   ],
   "source": [
    "\n",
    "rf_model = RandomForestRegressor(random_state=42)\n",
    "\n",
    "# Set up RandomizedSearchCV\n",
    "random_search = RandomizedSearchCV(estimator=rf_model, \n",
    "                                   param_distributions=param_grid, \n",
    "                                   n_iter=100,       # Number of iterations\n",
    "                                   cv=5,             # 5-fold cross-validation\n",
    "                                   verbose=2, \n",
    "                                   random_state=42, \n",
    "                                   n_jobs=-1)        # Use all available cores\n",
    "\n",
    "# Start timer for training\n",
    "start_train_time = time.time()\n",
    "\n",
    "# Fit RandomizedSearchCV\n",
    "random_search.fit(X_train, y_train)\n",
    "\n",
    "# End timer for training\n",
    "end_train_time = time.time()\n",
    "training_time = end_train_time - start_train_time\n"
   ]
  },
  {
   "cell_type": "code",
   "execution_count": 43,
   "metadata": {},
   "outputs": [
    {
     "name": "stdout",
     "output_type": "stream",
     "text": [
      "Best hyperparameters: {'n_estimators': 500, 'min_samples_split': 5, 'min_samples_leaf': 4, 'max_depth': 30, 'bootstrap': True}\n",
      "Training time: 463.0500 seconds\n"
     ]
    }
   ],
   "source": [
    "# Extract the best model\n",
    "best_rf_model = random_search.best_estimator_\n",
    "\n",
    "# Evaluate the best model\n",
    "y_train_pred = best_rf_model.predict(X_train)\n",
    "y_test_pred = best_rf_model.predict(X_test)\n",
    "\n",
    "# Print best hyperparameters found\n",
    "print(f\"Best hyperparameters: {random_search.best_params_}\")\n",
    "print(f\"Training time: {training_time:.4f} seconds\")\n",
    "\n",
    "# Model performance metrics can be calculated here for training and test sets"
   ]
  },
  {
   "cell_type": "code",
   "execution_count": 44,
   "metadata": {},
   "outputs": [
    {
     "name": "stdout",
     "output_type": "stream",
     "text": [
      "Model saved as 'random_forest_model.pkl'\n"
     ]
    }
   ],
   "source": [
    "import joblib\n",
    "\n",
    "# Save the best model from RandomizedSearchCV to a file\n",
    "joblib.dump(best_rf_model, 'random_forest_model.pkl')\n",
    "\n",
    "print(\"Model saved as 'random_forest_model.pkl'\")\n"
   ]
  },
  {
   "cell_type": "code",
   "execution_count": 45,
   "metadata": {},
   "outputs": [],
   "source": [
    "def haversine(lat1, lon1, lat2, lon2):\n",
    "    R = 6371.0 \n",
    "    dLat = radians(lat2 - lat1)\n",
    "    dLon = radians(lon2 - lon1)\n",
    "    a = sin(dLat / 2) ** 2 + cos(radians(lat1)) * cos(radians(lat2)) * sin(dLon / 2) ** 2\n",
    "    c = 2 * atan2(sqrt(a), sqrt(1 - a))\n",
    "    return R * c"
   ]
  },
  {
   "cell_type": "code",
   "execution_count": 46,
   "metadata": {},
   "outputs": [],
   "source": [
    "import requests\n",
    "from geopy.distance import geodesic\n",
    "\n",
    "# Function to get latitude and longitude using OpenStreetMap Nominatim API\n",
    "def get_lat_lon_from_district(district_name):\n",
    "    url = f\"https://nominatim.openstreetmap.org/search?q={district_name}&format=json\"\n",
    "    response = requests.get(url)\n",
    "    data = response.json()\n",
    "    \n",
    "    if data:\n",
    "        lat = float(data[0]['lat'])\n",
    "        lon = float(data[0]['lon'])\n",
    "        return lat, lon\n",
    "    else:\n",
    "        raise ValueError(f\"Could not find coordinates for {district_name}\")\n",
    "\n",
    "# Updated haversine function (using geopy to calculate distance accurately)\n",
    "def calculate_distance(lat1, lon1, lat2, lon2):\n",
    "    loc1 = (lat1, lon1)\n",
    "    loc2 = (lat2, lon2)\n",
    "    return geodesic(loc1, loc2).kilometers  # More accurate calculation using geodesic distance\n",
    "\n",
    "# Use the API to get latitude and longitude dynamically\n",
    "def predict_prices(chosen_commodity, chosen_variety, chosen_district, quantity, chosen_month, chosen_year):\n",
    "    # Fetch latitude and longitude using OpenStreetMap API for the chosen district\n",
    "    try:\n",
    "        current_lat, current_lon = get_lat_lon_from_district(chosen_district)\n",
    "    except ValueError as e:\n",
    "        print(e)\n",
    "        return\n",
    "    \n",
    "    district_encoded = le_district.transform([chosen_district])[0]\n",
    "    commodity_encoded = le_commodity.transform([chosen_commodity])[0]\n",
    "    variety_encoded = le_variety.transform([chosen_variety])[0]\n",
    "\n",
    "    input_data = pd.DataFrame({\n",
    "        'Commodity_Encoded': [commodity_encoded],\n",
    "        'Variety_Encoded': [variety_encoded],\n",
    "        'District_Encoded': [district_encoded],\n",
    "        'Year': [chosen_year],\n",
    "        'Month': [chosen_month]\n",
    "    })\n",
    "\n",
    "    predicted_price = rf_model.predict(input_data)[0]\n",
    "    print(f\"Predicted price for {chosen_commodity} in {chosen_district} for {chosen_month}/{chosen_year}: ₹{predicted_price:.2f} per quintal\")\n",
    "    total_cost = (predicted_price / 100) * quantity\n",
    "    print(f\"For {quantity} kg, the estimated total cost is: ₹{total_cost:.2f}\")\n",
    "    \n",
    "    # Calculate distances from nearby districts\n",
    "    data['distance'] = data.apply(lambda row: calculate_distance(current_lat, current_lon, row['avg_latitude'], row['avg_longitude']), axis=1)\n",
    "    \n",
    "    best_month_data = data[(data['Commodity'] == chosen_commodity) & (data['Variety'] == chosen_variety)]\n",
    "    \n",
    "    if not best_month_data.empty:\n",
    "        best_buy_month_row = best_month_data.groupby('Month')['Modal_Price'].mean().idxmin()\n",
    "        best_buy_month = pd.to_datetime(f'2023-{best_buy_month_row}-01').month_name()  \n",
    "        print(f\"The best buy month for {chosen_commodity} ({chosen_variety}) is {best_buy_month}.\")\n",
    "    else:\n",
    "        print(\"No data available for the selected commodity and variety.\")\n",
    "\n",
    "    nearby_districts = data[(data['Commodity'] == chosen_commodity) &\n",
    "                             (data['Variety'] == chosen_variety) &\n",
    "                             (data['District'] != chosen_district)] \\\n",
    "                         .sort_values(by=['distance', 'Modal_Price']).drop_duplicates(subset='District').head(3)\n",
    "    \n",
    "    if not nearby_districts.empty:\n",
    "        print(\"Nearby districts with best prices:\")\n",
    "        for _, row in nearby_districts.iterrows():\n",
    "            nearby_district = row['District']\n",
    "            nearby_distance = row['distance']\n",
    "            nearby_price = float(row['Modal_Price']) / 100 * quantity\n",
    "            print(f\"- {nearby_district} ({nearby_distance:.2f} km), Price: ₹{nearby_price:.2f} for {quantity} kg\")\n",
    "    else:\n",
    "        print(\"No nearby districts found with available data.\")\n"
   ]
  },
  {
   "cell_type": "code",
   "execution_count": 51,
   "metadata": {},
   "outputs": [],
   "source": [
    "def predict_prices(chosen_commodity, chosen_variety, chosen_district, quantity, chosen_month, chosen_year):\n",
    "    district_encoded = le_district.transform([chosen_district])[0]\n",
    "    commodity_encoded = le_commodity.transform([chosen_commodity])[0]\n",
    "    variety_encoded = le_variety.transform([chosen_variety])[0]\n",
    "\n",
    "    input_data = pd.DataFrame({\n",
    "        'Commodity_Encoded': [commodity_encoded],\n",
    "        'Variety_Encoded': [variety_encoded],\n",
    "        'District_Encoded': [district_encoded],\n",
    "        'Year': [chosen_year],\n",
    "        'Month': [chosen_month]\n",
    "    })\n",
    "\n",
    "    start_predict_time = time.time()\n",
    "    predicted_price = best_rf_model.predict(input_data)[0]\n",
    "    end_predict_time = time.time()\n",
    "    prediction_time = end_predict_time - start_predict_time\n",
    "  \n",
    "    print(f\"Predicted price for {chosen_commodity} in {chosen_district} for {chosen_month}/{chosen_year}: ₹{predicted_price:.2f} per quintal\")\n",
    "    \n",
    "    total_cost = (predicted_price / 100) * quantity\n",
    "    print(f\"For {quantity} kg, the estimated total cost is: ₹{total_cost:.2f}\")\n",
    "\n",
    "    # Get the current latitude and longitude for the chosen district\n",
    "    current_lat = geo_data[geo_data['District'] == chosen_district]['avg_latitude'].values[0]\n",
    "    current_lon = geo_data[geo_data['District'] == chosen_district]['avg_longitude'].values[0]\n",
    "\n",
    "    # Calculate distances to all other districts\n",
    "    data['distance'] = data.apply(lambda row: haversine(current_lat, current_lon, row['avg_latitude'], row['avg_longitude']), axis=1)\n",
    "\n",
    "    # Determine the best buy month\n",
    "    best_month_data = data[(data['Commodity'] == chosen_commodity) & (data['Variety'] == chosen_variety)]\n",
    "    \n",
    "    if not best_month_data.empty:\n",
    "        best_buy_month_row = best_month_data.groupby('Month')['Modal_Price'].mean().idxmin()\n",
    "        best_buy_month = pd.to_datetime(f'2023-{best_buy_month_row}-01').month_name()  \n",
    "        print(f\"The best buy month for {chosen_commodity} ({chosen_variety}) is {best_buy_month}.\")\n",
    "    else:\n",
    "        print(\"No data available for the selected commodity and variety.\")\n",
    "\n",
    "    # Find nearby districts with best prices\n",
    "    nearby_districts = data[(data['Commodity'] == chosen_commodity) &\n",
    "                             (data['Variety'] == chosen_variety) &\n",
    "                             (data['District'] != chosen_district)] \\\n",
    "                         .sort_values(by=['distance', 'Modal_Price']).drop_duplicates(subset='District').head(3)\n",
    "    \n",
    "    if not nearby_districts.empty:\n",
    "        print(\"Nearby districts with best prices:\")\n",
    "        for _, row in nearby_districts.iterrows():\n",
    "            nearby_district = row['District']\n",
    "            nearby_distance = row['distance']\n",
    "            nearby_price = float(row['Modal_Price']) / 100 * quantity\n",
    "            print(f\"- {nearby_district} ({nearby_distance:.2f} km), Price: ₹{nearby_price:.2f} for {quantity} kg\")\n",
    "    else:\n",
    "        print(\"No nearby districts found with available data.\")"
   ]
  },
  {
   "cell_type": "code",
   "execution_count": 49,
   "metadata": {},
   "outputs": [],
   "source": [
    "chosen_commodity = input(\"Enter the commodity (e.g., Groundnut): \")\n",
    "chosen_variety = input(\"Enter the variety (e.g., Other): \")\n",
    "chosen_district = input(\"Enter the district (e.g., Ariyalur): \")\n",
    "quantity = float(input(\"Enter the quantity in kg (e.g., 2): \"))\n",
    "chosen_month = int(input(\"Enter the month as a number (1-12, e.g., 6 for June): \"))\n",
    "chosen_year = int(input(\"Enter the year (e.g., 2023): \"))"
   ]
  },
  {
   "cell_type": "code",
   "execution_count": 52,
   "metadata": {},
   "outputs": [
    {
     "name": "stdout",
     "output_type": "stream",
     "text": [
      "Predicted price for Turmeric in Coimbatore for 3/2024: ₹7364.90 per quintal\n",
      "For 1.0 kg, the estimated total cost is: ₹73.65\n",
      "The best buy month for Turmeric (Bulb) is November.\n",
      "Nearby districts with best prices:\n",
      "- Erode (57.84 km), Price: ₹48.17 for 1.0 kg\n",
      "- Karur (110.77 km), Price: ₹39.00 for 1.0 kg\n",
      "- Namakkal (127.75 km), Price: ₹48.98 for 1.0 kg\n"
     ]
    }
   ],
   "source": [
    "predict_prices(chosen_commodity, chosen_variety, chosen_district, quantity, chosen_month, chosen_year)"
   ]
  },
  {
   "cell_type": "code",
   "execution_count": 54,
   "metadata": {},
   "outputs": [
    {
     "name": "stdout",
     "output_type": "stream",
     "text": [
      "Training MAE: 1012.8252139049515, Test MAE: 1083.4280407633478\n",
      "Training RMSE: 6086.630559862142, Test RMSE: 2289.3807858258756\n",
      "Training R²: 0.36938020355140155, Test R²: 0.7332052342614219\n"
     ]
    }
   ],
   "source": [
    "from sklearn.metrics import mean_absolute_error, mean_squared_error, r2_score\n",
    "import numpy as np\n",
    "\n",
    "y_train_pred = best_rf_model.predict(X_train)\n",
    "y_test_pred = best_rf_model.predict(X_test)\n",
    "\n",
    "train_mae = mean_absolute_error(y_train, y_train_pred)\n",
    "test_mae = mean_absolute_error(y_test, y_test_pred)\n",
    "\n",
    "train_mse = mean_squared_error(y_train, y_train_pred)\n",
    "test_mse = mean_squared_error(y_test, y_test_pred)\n",
    "\n",
    "train_rmse = np.sqrt(train_mse)\n",
    "test_rmse = np.sqrt(test_mse)\n",
    "\n",
    "\n",
    "train_r2 = r2_score(y_train, y_train_pred)\n",
    "test_r2 = r2_score(y_test, y_test_pred)\n",
    "\n",
    "print(f'Training MAE: {train_mae}, Test MAE: {test_mae}')\n",
    "print(f'Training RMSE: {train_rmse}, Test RMSE: {test_rmse}')\n",
    "print(f'Training R²: {train_r2}, Test R²: {test_r2}')\n"
   ]
  },
  {
   "cell_type": "code",
   "execution_count": 23,
   "metadata": {},
   "outputs": [
    {
     "data": {
      "image/png": "[encoded data removed]",
      "text/plain": [
       "<Figure size 1000x600 with 1 Axes>"
      ]
     },
     "metadata": {},
     "output_type": "display_data"
    }
   ],
   "source": [
    "import matplotlib.pyplot as plt\n",
    "\n",
    "# Metrics to plot\n",
    "metrics = ['MAE', 'RMSE', 'R²']\n",
    "train_metrics = [train_mae, train_rmse, train_r2]\n",
    "test_metrics = [test_mae, test_rmse, test_r2]\n",
    "\n",
    "# Plotting the metrics\n",
    "plt.figure(figsize=(10, 6))\n",
    "plt.bar(metrics, train_metrics, width=0.4, label='Train', align='center')\n",
    "plt.bar(metrics, test_metrics, width=0.4, label='Test', align='edge')\n",
    "plt.xlabel('Metrics')\n",
    "plt.ylabel('Value')\n",
    "plt.title('Model Performance: Train vs Test')\n",
    "plt.legend()\n",
    "plt.show()\n"
   ]
  }
 ],
 "metadata": {
  "kernelspec": {
   "display_name": "Python 3",
   "language": "python",
   "name": "python3"
  },
  "language_info": {
   "codemirror_mode": {
    "name": "ipython",
    "version": 3
   },
   "file_extension": ".py",
   "mimetype": "text/x-python",
   "name": "python",
   "nbconvert_exporter": "python",
   "pygments_lexer": "ipython3",
   "version": "3.11.6"
  }
 },
 "nbformat": 4,
 "nbformat_minor": 2
}
